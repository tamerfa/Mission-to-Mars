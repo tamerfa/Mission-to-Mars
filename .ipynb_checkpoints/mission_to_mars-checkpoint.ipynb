{
 "cells": [
  {
   "cell_type": "code",
   "execution_count": 1,
   "id": "19bc6540-2f42-491f-9c02-4c6facb7a018",
   "metadata": {},
   "outputs": [],
   "source": [
    "# Importing dependencies\n",
    "from splinter import Browser\n",
    "from bs4 import BeautifulSoup as bs\n",
    "from webdriver_manager.chrome import ChromeDriverManager\n",
    "import time\n",
    "import pandas as pd"
   ]
  },
  {
   "cell_type": "code",
   "execution_count": 2,
   "id": "f321b248",
   "metadata": {},
   "outputs": [
    {
     "name": "stderr",
     "output_type": "stream",
     "text": [
      "[WDM] - \n",
      "\n",
      "[WDM] - ====== WebDriver manager ======\n",
      "[WDM] - Current google-chrome version is 95.0.4638\n",
      "[WDM] - Get LATEST driver version for 95.0.4638\n",
      "[WDM] - Driver [C:\\Users\\tamer\\.wdm\\drivers\\chromedriver\\win32\\95.0.4638.54\\chromedriver.exe] found in cache\n"
     ]
    }
   ],
   "source": [
    "executable_path = {'executable_path':ChromeDriverManager().install()}\n",
    "browser = Browser('chrome',**executable_path, headless=False)"
   ]
  },
  {
   "cell_type": "code",
   "execution_count": 3,
   "id": "84fc9fb8-ab27-4923-8b93-8682d8a4c9c1",
   "metadata": {},
   "outputs": [],
   "source": [
    "# Defining a dictionary to collect all scraped data\n",
    "mars_dict = {} \n",
    "\n",
    "# Scraping 'Nasa Mars News' site\n",
    "nasa_url = 'https://redplanetscience.com/'\n",
    "browser.visit(nasa_url)\n",
    "\n",
    "\n",
    "\n",
    "html = browser.html\n",
    "soup = bs(html, 'html.parser')\n",
    "\n",
    "news_title = soup.find('div', class_= 'content_title').text\n",
    "news_p = soup.find('div', class_= 'article_teaser_body').text\n",
    "\n",
    "# Adding 'Nasa Mars News' data to mars_dict\n",
    "mars_dict['news_title'] = news_title\n",
    "mars_dict['news_p'] = news_p\n"
   ]
  },
  {
   "cell_type": "code",
   "execution_count": 4,
   "id": "f855172c-7903-4e0d-933c-e1e7ea889ca4",
   "metadata": {},
   "outputs": [],
   "source": [
    "# Scraping 'JPL Mars Space Images' featured image\n",
    "jpl_url = 'https://spaceimages-mars.com/'\n",
    "browser.visit(jpl_url)\n",
    "\n",
    "html = browser.html\n",
    "soup = bs(html, 'html.parser')\n",
    "\n",
    "featured_image = soup.find('img', class_= 'headerimage')\n",
    "relative_image_url = featured_image['src']\n",
    "featured_image_url = jpl_url+relative_image_url\n",
    "\n",
    "mars_dict['featured_image_url'] = featured_image_url"
   ]
  },
  {
   "cell_type": "code",
   "execution_count": 5,
   "id": "cb718ff3-2fa4-4511-b3bf-2e66b39ade7d",
   "metadata": {},
   "outputs": [
    {
     "data": {
      "text/plain": [
       "'<table border=\"1\" class=\"table table-striped table-bordered\">  <thead>    <tr style=\"text-align: center;\">      <th></th>      <th>Mars</th>      <th>Earth</th>    </tr>    <tr>      <th>Description</th>      <th></th>      <th></th>    </tr>  </thead>  <tbody>    <tr>      <th>Mars - Earth Comparison</th>      <td>Mars</td>      <td>Earth</td>    </tr>    <tr>      <th>Diameter:</th>      <td>6,779 km</td>      <td>12,742 km</td>    </tr>    <tr>      <th>Mass:</th>      <td>6.39 × 10^23 kg</td>      <td>5.97 × 10^24 kg</td>    </tr>    <tr>      <th>Moons:</th>      <td>2</td>      <td>1</td>    </tr>    <tr>      <th>Distance from Sun:</th>      <td>227,943,824 km</td>      <td>149,598,262 km</td>    </tr>    <tr>      <th>Length of Year:</th>      <td>687 Earth days</td>      <td>365.24 days</td>    </tr>    <tr>      <th>Temperature:</th>      <td>-87 to -5 °C</td>      <td>-88 to 58°C</td>    </tr>  </tbody></table>'"
      ]
     },
     "execution_count": 5,
     "metadata": {},
     "output_type": "execute_result"
    }
   ],
   "source": [
    "# Scraping 'Mars Facts' using pandas\n",
    "facts_url = 'https://galaxyfacts-mars.com/'\n",
    "\n",
    "tables_list = pd.read_html(facts_url)\n",
    "\n",
    "# Required table is the first table in the list\n",
    "table_df = tables_list[0]\n",
    "\n",
    "table_df.columns = ['Description', 'Mars', 'Earth']\n",
    "table_df.set_index('Description', inplace=True)\n",
    "\n",
    "\n",
    "# Save the table to an html file\n",
    "html_table = table_df.to_html()\n",
    "html_table = html_table.replace('\\n','')\n",
    "html_table = html_table.replace('class=\"dataframe', 'class=\"table table-striped table-bordered')\n",
    "html_table = html_table.replace('style=\"text-align: right;\"', 'style=\"text-align: center;\"')\n",
    "\n",
    "# Adding 'Mars Facts' table to mars_dict\n",
    "mars_dict['facts'] = html_table\n",
    "html_table"
   ]
  },
  {
   "cell_type": "code",
   "execution_count": 6,
   "id": "12290d44-0f5e-4ab3-b12e-d6f7d611fcd6",
   "metadata": {},
   "outputs": [],
   "source": [
    "# Scraping 'Mars Hemispheres'\n",
    "hem_url = 'https://marshemispheres.com/'\n",
    "browser.visit(hem_url)\n",
    "\n",
    "html = browser.html\n",
    "soup = bs(html, 'html.parser')\n",
    "\n",
    "# Getting a list for the links to be clicked\n",
    "clickables = soup.find_all('a', class_='itemLink product-item')\n",
    "\n",
    "# clickables contain duplicate links, keep only the ones that contain text\n",
    "links = []\n",
    "for link in clickables:\n",
    "    if link.text:\n",
    "        links.append(link)\n",
    "        \n",
    "# Delete unneeded last element of links\n",
    "links.pop()\n",
    "\n",
    "# Defining a list to collect data\n",
    "hemisphere_image_urls = []\n",
    "\n",
    "for link in links:\n",
    "    hem_dict = {}\n",
    "    link_text = link.find('h3').text\n",
    "    hem_dict['title'] = link_text\n",
    "    #Click to visit the image page\n",
    "    browser.links.find_by_partial_text(link_text).click()\n",
    "    time.sleep(1)\n",
    "    html = browser.html\n",
    "    soup = bs(html, 'html.parser')\n",
    "    img_section = soup.find('div', class_='downloads')\n",
    "    hem_dict['img_url'] = hem_url + img_section.find('a', text='Original')['href']\n",
    "    hemisphere_image_urls.append(hem_dict)\n",
    "    # Going back to the previous page\n",
    "    browser.back()\n",
    "    time.sleep(1)\n",
    "\n",
    "browser.quit()\n",
    "\n",
    "mars_dict['hemishperes'] = hemisphere_image_urls"
   ]
  }
 ],
 "metadata": {
  "interpreter": {
   "hash": "111db04c7320b33a1e514f97baf5207507c5e9f84607084051276ff889a07002"
  },
  "kernelspec": {
   "display_name": "Python 3 (ipykernel)",
   "language": "python",
   "name": "python3"
  },
  "language_info": {
   "codemirror_mode": {
    "name": "ipython",
    "version": 3
   },
   "file_extension": ".py",
   "mimetype": "text/x-python",
   "name": "python",
   "nbconvert_exporter": "python",
   "pygments_lexer": "ipython3",
   "version": "3.9.6"
  }
 },
 "nbformat": 4,
 "nbformat_minor": 5
}
