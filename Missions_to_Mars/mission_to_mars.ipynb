{
 "cells": [
  {
   "cell_type": "code",
   "execution_count": 8,
   "id": "19bc6540-2f42-491f-9c02-4c6facb7a018",
   "metadata": {},
   "outputs": [],
   "source": [
    "# Importing dependencies\n",
    "from splinter import Browser\n",
    "from bs4 import BeautifulSoup as bs\n",
    "from webdriver_manager.chrome import ChromeDriverManager\n",
    "import time\n",
    "import pandas as pd"
   ]
  },
  {
   "cell_type": "code",
   "execution_count": 9,
   "id": "f321b248",
   "metadata": {},
   "outputs": [
    {
     "name": "stderr",
     "output_type": "stream",
     "text": [
      "[WDM] - \n",
      "\n",
      "[WDM] - ====== WebDriver manager ======\n",
      "[WDM] - Current google-chrome version is 94.0.4606\n",
      "[WDM] - Get LATEST driver version for 94.0.4606\n",
      "[WDM] - Driver [C:\\Users\\tamer\\.wdm\\drivers\\chromedriver\\win32\\94.0.4606.61\\chromedriver.exe] found in cache\n"
     ]
    }
   ],
   "source": [
    "executable_path = {'executable_path':ChromeDriverManager().install()}\n",
    "browser = Browser('chrome',**executable_path, headless=False)"
   ]
  },
  {
   "cell_type": "code",
   "execution_count": 10,
   "id": "84fc9fb8-ab27-4923-8b93-8682d8a4c9c1",
   "metadata": {},
   "outputs": [],
   "source": [
    "# Defining a dictionary to collect all scraped data\n",
    "mars_dict = {} \n",
    "\n",
    "# Scraping 'Nasa Mars News' site\n",
    "nasa_url = 'https://redplanetscience.com/'\n",
    "browser.visit(nasa_url)\n",
    "\n",
    "\n",
    "\n",
    "html = browser.html\n",
    "soup = bs(html, 'html.parser')\n",
    "\n",
    "news_title = soup.find('div', class_= 'content_title').text\n",
    "news_p = soup.find('div', class_= 'article_teaser_body').text\n",
    "mars_dict['news_title'] = news_title\n",
    "mars_dict['news_p'] = news_p\n"
   ]
  },
  {
   "cell_type": "code",
   "execution_count": 11,
   "id": "f855172c-7903-4e0d-933c-e1e7ea889ca4",
   "metadata": {},
   "outputs": [],
   "source": [
    "# Scraping 'JPL Mars Space Images' featured image\n",
    "jpl_url = 'https://spaceimages-mars.com/'\n",
    "browser.visit(jpl_url)\n",
    "\n",
    "\n",
    "\n",
    "html = browser.html\n",
    "soup = bs(html, 'html.parser')\n",
    "\n",
    "featured_image = soup.find('img', class_= 'headerimage')\n",
    "relative_image_url = featured_image['src']\n",
    "featured_image_url = jpl_url+relative_image_url\n",
    "\n",
    "mars_dict['featured_image_url'] = featured_image_url\n",
    "\n"
   ]
  },
  {
   "cell_type": "code",
   "execution_count": 12,
   "id": "cb718ff3-2fa4-4511-b3bf-2e66b39ade7d",
   "metadata": {},
   "outputs": [],
   "source": [
    "# Scraping 'Mars Facts' using pandas\n",
    "facts_url = 'https://galaxyfacts-mars.com/'\n",
    "\n",
    "tables_list = pd.read_html(facts_url)\n",
    "\n",
    "# Required table is the first table in the list\n",
    "table_df = tables_list[0]\n",
    "\n",
    "table_df.columns = ['Description', 'Mars', 'Earth']\n",
    "table_df.set_index('Description', inplace=True)\n",
    "\n",
    "mars_dict['facts'] = table_df\n",
    "# Save the table to an html file\n",
    "table_df.to_html('mars_facts.html')"
   ]
  },
  {
   "cell_type": "code",
   "execution_count": 13,
   "id": "12290d44-0f5e-4ab3-b12e-d6f7d611fcd6",
   "metadata": {},
   "outputs": [
    {
     "data": {
      "text/plain": [
       "[{'title': 'Cerberus Hemisphere Enhanced',\n",
       "  'img_url': 'images/cerberus_enhanced.tif'},\n",
       " {'title': 'Schiaparelli Hemisphere Enhanced',\n",
       "  'img_url': 'images/schiaparelli_enhanced.tif'},\n",
       " {'title': 'Syrtis Major Hemisphere Enhanced',\n",
       "  'img_url': 'images/syrtis_major_enhanced.tif'},\n",
       " {'title': 'Valles Marineris Hemisphere Enhanced',\n",
       "  'img_url': 'images/valles_marineris_enhanced.tif'}]"
      ]
     },
     "execution_count": 13,
     "metadata": {},
     "output_type": "execute_result"
    }
   ],
   "source": [
    "# Scraping 'Mars Hemispheres'\n",
    "hem_url = 'https://marshemispheres.com/'\n",
    "browser.visit(hem_url)\n",
    "\n",
    "html = browser.html\n",
    "soup = bs(html, 'html.parser')\n",
    "\n",
    "# Getting a list for the links to be clicked\n",
    "clickables = soup.find_all('a', class_='itemLink product-item')\n",
    "\n",
    "# clickables contain duplicate links, keep only the ones that contain text\n",
    "links = []\n",
    "for link in clickables:\n",
    "    if link.text:\n",
    "        links.append(link)\n",
    "        \n",
    "# Delete unneeded last element of links\n",
    "links.pop()\n",
    "\n",
    "# Defining a list to collect data\n",
    "hemisphere_image_urls = []\n",
    "\n",
    "for link in links:\n",
    "    hem_dict = {}\n",
    "    link_text = link.find('h3').text\n",
    "    hem_dict['title'] = link_text\n",
    "    #Click to visit the image page\n",
    "    browser.links.find_by_partial_text(link_text).click()\n",
    "    time.sleep(1)\n",
    "    html = browser.html\n",
    "    soup = bs(html, 'html.parser')\n",
    "    img_section = soup.find('div', class_='downloads')\n",
    "    hem_dict['img_url'] = img_section.find('a', text='Original')['href']\n",
    "    hemisphere_image_urls.append(hem_dict)\n",
    "    # Going back to the previous page\n",
    "    browser.back()\n",
    "    time.sleep(1)\n",
    "\n",
    "mars_dict['hemishperes'] = hemisphere_image_urls"
   ]
  },
  {
   "cell_type": "code",
   "execution_count": 14,
   "id": "b5949cef",
   "metadata": {},
   "outputs": [],
   "source": [
    "browser.quit()"
   ]
  }
 ],
 "metadata": {
  "kernelspec": {
   "display_name": "Python 3 (ipykernel)",
   "language": "python",
   "name": "python3"
  },
  "language_info": {
   "codemirror_mode": {
    "name": "ipython",
    "version": 3
   },
   "file_extension": ".py",
   "mimetype": "text/x-python",
   "name": "python",
   "nbconvert_exporter": "python",
   "pygments_lexer": "ipython3",
   "version": "3.9.6"
  }
 },
 "nbformat": 4,
 "nbformat_minor": 5
}
